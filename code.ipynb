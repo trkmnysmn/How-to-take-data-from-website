# loading libraries
import requests as rq
from bs4 import BeautifulSoup as bs

url = "http://sukrubezen.com/kodluyoruz/test39314660.html"

for i in range(406):
    r = rq.get(url, headers={"User-Agent": "Mozilla/5.0 (X11; Linux x86_64) AppleWebKit/537.36 (KHTML, like Gecko) Chrome/78.0.3904.87 Safari/537.36"})
    soup = bs(r.text, "html.parser")
    i = soup.find("a")
    add_url = i.get("href")
    url = "http://sukrubezen.com/kodluyoruz/" + add_url
    print(url)
