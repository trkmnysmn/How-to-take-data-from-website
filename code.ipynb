# loading libraries
import requests as rq
from bs4 import BeautifulSoup as bs

url = "http://sukrubezen.com/kodluyoruz/test39314660.html"
headers = {"User-Agent": "Mozilla/5.0 (X11; Linux x86_64) AppleWebKit/537.36 (KHTML, like Gecko) Chrome/78.0.3904.87 Safari/537.36"}

for i in range(406):
    rq.get(url % headers)

    try:
        h3 = wait.until(EC.visibility_of_element_located((By.CSS_SELECTOR)))

        source = rq.page_source

        soup = BeautifulSoup(source, "html.parser")
        first_item = soup.find("div")
        time = first_item.find("span").text
    except:
        continue

    print (username, time)

rq.close()
